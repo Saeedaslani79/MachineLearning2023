{
  "nbformat": 4,
  "nbformat_minor": 0,
  "metadata": {
    "colab": {
      "provenance": [],
      "authorship_tag": "ABX9TyMtyq5pf+ovjsFtHTOjSWxJ",
      "include_colab_link": true
    },
    "kernelspec": {
      "name": "python3",
      "display_name": "Python 3"
    },
    "language_info": {
      "name": "python"
    }
  },
  "cells": [
    {
      "cell_type": "markdown",
      "metadata": {
        "id": "view-in-github",
        "colab_type": "text"
      },
      "source": [
        "<a href=\"https://colab.research.google.com/github/Saeedaslani79/MachineLearning2023/blob/main/hw1/HW2.ipynb\" target=\"_parent\"><img src=\"https://colab.research.google.com/assets/colab-badge.svg\" alt=\"Open In Colab\"/></a>"
      ]
    },
    {
      "cell_type": "markdown",
      "source": [
        "Q1"
      ],
      "metadata": {
        "id": "eTq_RJlO5yfT"
      }
    },
    {
      "cell_type": "code",
      "execution_count": null,
      "metadata": {
        "colab": {
          "base_uri": "https://localhost:8080/"
        },
        "id": "5eZ8cFgQ5xn4",
        "outputId": "fb08a6b2-ab71-47da-b56e-d4f4390a2923"
      },
      "outputs": [
        {
          "output_type": "stream",
          "name": "stdout",
          "text": [
            "[ 74  50  60  11  54  69  18  13  49  85   5  33  54  55  74  85  94  74\n",
            "  60  95  25  13  73  38  50  72  60  27  12  92 100   1  17  91  70  93\n",
            "  20  83  71  25  13   6  59  84  88  41  85  18  73  56]\n",
            "mean: 53.36 median: 57.5 standard deviation: 29.416158824700414\n"
          ]
        }
      ],
      "source": [
        "import numpy as np\n",
        "x = np.random.randint(1,101,50)\n",
        "print(x)\n",
        "mean=np.mean(x)\n",
        "median=np.median(x)\n",
        "std=np.std(x)\n",
        "print('mean:',mean,'median:',median,'standard deviation:',std)\n"
      ]
    },
    {
      "cell_type": "markdown",
      "source": [
        "Q2"
      ],
      "metadata": {
        "id": "CigyEnxC8YcK"
      }
    },
    {
      "cell_type": "code",
      "source": [
        "import pandas as pd\n",
        "data={\n",
        "    'name':['ali','saeed','reza','javad','yazdan','mahdi'],\n",
        "    'age':[23,25,35,14,42,36],\n",
        "    'city':['tehran','yazd','shiraz','ardebil','qom','kashan']\n",
        "\n",
        "}\n",
        "\n",
        "df=pd.DataFrame(data)\n",
        "print(df)\n",
        "x=df.head(3)\n",
        "y=df.tail(2)\n",
        "print('first 3 rows:\\n',x)\n",
        "print('last 2 rows:\\n',y)\n",
        "k=0\n",
        "r=0\n",
        "for i in range(0,6):\n",
        "  k+=df.age[i]\n",
        "  r+=1\n",
        "print('mean of ages:',(k/r))\n"
      ],
      "metadata": {
        "colab": {
          "base_uri": "https://localhost:8080/"
        },
        "id": "lAAHFEW_8Zv9",
        "outputId": "c8f68ec7-46bc-4930-e8fd-191b7a58f8af"
      },
      "execution_count": null,
      "outputs": [
        {
          "output_type": "stream",
          "name": "stdout",
          "text": [
            "     name  age     city\n",
            "0     ali   23   tehran\n",
            "1   saeed   25     yazd\n",
            "2    reza   35   shiraz\n",
            "3   javad   14  ardebil\n",
            "4  yazdan   42      qom\n",
            "5   mahdi   36   kashan\n",
            "first 3 rows:\n",
            "     name  age    city\n",
            "0    ali   23  tehran\n",
            "1  saeed   25    yazd\n",
            "2   reza   35  shiraz\n",
            "last 2 rows:\n",
            "      name  age    city\n",
            "4  yazdan   42     qom\n",
            "5   mahdi   36  kashan\n",
            "mean of ages: 29.166666666666668\n"
          ]
        }
      ]
    },
    {
      "cell_type": "markdown",
      "source": [
        "Q3"
      ],
      "metadata": {
        "id": "kp3esp3BEuru"
      }
    },
    {
      "cell_type": "code",
      "source": [
        "import matplotlib.pyplot as plt\n",
        "import numpy as np\n",
        "\n",
        "\n",
        "month=('jan','feb','mar','apr','may')\n",
        "salary=(2000,2400,1600,2300,2500)\n",
        "plt.figure(figsize=(8, 6))\n",
        "plt.bar(month,salary)\n",
        "plt.xlabel('months')\n",
        "plt.ylabel('salary')\n",
        "plt.title('bar plot Monthly sales for a store')\n",
        "plt.show()\n"
      ],
      "metadata": {
        "id": "CyhFz5PJEv23",
        "colab": {
          "base_uri": "https://localhost:8080/",
          "height": 564
        },
        "outputId": "ba9eaa75-1d73-46d5-b819-801389e214ab"
      },
      "execution_count": null,
      "outputs": [
        {
          "output_type": "display_data",
          "data": {
            "text/plain": [
              "<Figure size 800x600 with 1 Axes>"
            ],
            "image/png": "[encoded data removed]"
          },
          "metadata": {}
        }
      ]
    },
    {
      "cell_type": "markdown",
      "source": [
        "Q4"
      ],
      "metadata": {
        "id": "pS-mFMcYbfU9"
      }
    },
    {
      "cell_type": "code",
      "source": [
        "from numpy.core.multiarray import array\n",
        "import numpy as np\n",
        "arr1=np.array([np.random.randint(0,11,5),np.random.randint(0,11,5),np.random.randint(0,11,5),np.random.randint(0,11,5),np.random.randint(0,11,5)])\n",
        "arr2=np.array([np.random.randint(0,11,5),np.random.randint(0,11,5),np.random.randint(0,11,5),np.random.randint(0,11,5),np.random.randint(0,11,5)])\n",
        "print('arr1:')\n",
        "print(arr1)\n",
        "print('arr2')\n",
        "print(arr2)\n",
        "print('Addition of arrays:')\n",
        "print(arr1+arr2)\n",
        "print('subtraction(2form1) of arrays:')\n",
        "print(arr1-arr2)\n",
        "print('subtraction(1form2) of arrays:')\n",
        "print(arr2-arr1)\n",
        "print('multiplication of arrays:')\n",
        "print(arr2*arr1)\n",
        "print('division of arrays:')\n",
        "print(arr2/arr1)\n",
        "\n",
        "\n"
      ],
      "metadata": {
        "colab": {
          "base_uri": "https://localhost:8080/"
        },
        "id": "a9tY2ZKkbgRX",
        "outputId": "66b4ad32-df9f-4a4f-c53c-c71945984867"
      },
      "execution_count": null,
      "outputs": [
        {
          "output_type": "stream",
          "name": "stdout",
          "text": [
            "arr1:\n",
            "[[ 0  7  9  6  3]\n",
            " [ 9 10  8 10  6]\n",
            " [ 0  2  9  9  9]\n",
            " [ 1  2 10  3  9]\n",
            " [ 0  1  2 10  1]]\n",
            "arr2\n",
            "[[ 8  2  3  9  7]\n",
            " [ 1  9  5  8  0]\n",
            " [ 5  6  3  7  6]\n",
            " [10 10  3 10  2]\n",
            " [ 2  4  6  7  0]]\n",
            "Addition of arrays:\n",
            "[[ 8  9 12 15 10]\n",
            " [10 19 13 18  6]\n",
            " [ 5  8 12 16 15]\n",
            " [11 12 13 13 11]\n",
            " [ 2  5  8 17  1]]\n",
            "subtraction(2form1) of arrays:\n",
            "[[-8  5  6 -3 -4]\n",
            " [ 8  1  3  2  6]\n",
            " [-5 -4  6  2  3]\n",
            " [-9 -8  7 -7  7]\n",
            " [-2 -3 -4  3  1]]\n",
            "subtraction(1form2) of arrays:\n",
            "[[ 8 -5 -6  3  4]\n",
            " [-8 -1 -3 -2 -6]\n",
            " [ 5  4 -6 -2 -3]\n",
            " [ 9  8 -7  7 -7]\n",
            " [ 2  3  4 -3 -1]]\n",
            "multiplication of arrays:\n",
            "[[ 0 14 27 54 21]\n",
            " [ 9 90 40 80  0]\n",
            " [ 0 12 27 63 54]\n",
            " [10 20 30 30 18]\n",
            " [ 0  4 12 70  0]]\n",
            "division of arrays:\n",
            "[[        inf  0.28571429  0.33333333  1.5         2.33333333]\n",
            " [ 0.11111111  0.9         0.625       0.8         0.        ]\n",
            " [        inf  3.          0.33333333  0.77777778  0.66666667]\n",
            " [10.          5.          0.3         3.33333333  0.22222222]\n",
            " [        inf  4.          3.          0.7         0.        ]]\n"
          ]
        },
        {
          "output_type": "stream",
          "name": "stderr",
          "text": [
            "<ipython-input-25-8a6dd97ac9b4>:18: RuntimeWarning: divide by zero encountered in divide\n",
            "  print(arr2/arr1)\n"
          ]
        }
      ]
    },
    {
      "cell_type": "markdown",
      "source": [
        "Q5"
      ],
      "metadata": {
        "id": "Dh04Wr5DgHMJ"
      }
    },
    {
      "cell_type": "code",
      "source": [
        "import pandas as pd\n",
        "data={\n",
        "    'employees name':['ali','saeed','reza','javad','yazdan','mahdi'],\n",
        "    'age':[23,25,35,14,42,36]\n",
        "\n",
        "}\n",
        "df=pd.DataFrame(data)\n",
        "print(df[df.age>30])"
      ],
      "metadata": {
        "colab": {
          "base_uri": "https://localhost:8080/"
        },
        "id": "i6qX3iQCgdng",
        "outputId": "304a6964-0d8e-417d-b0b0-a1d4a1ef1517"
      },
      "execution_count": null,
      "outputs": [
        {
          "output_type": "stream",
          "name": "stdout",
          "text": [
            "  employees name  age\n",
            "2           reza   35\n",
            "4         yazdan   42\n",
            "5          mahdi   36\n"
          ]
        }
      ]
    },
    {
      "cell_type": "markdown",
      "source": [
        "Q6"
      ],
      "metadata": {
        "id": "txOwU7Vh2bwN"
      }
    },
    {
      "cell_type": "code",
      "source": [
        "import matplotlib.pyplot as plt\n",
        "import numpy as np\n",
        "\n",
        "x=np.random.rand(100)\n",
        "y=np.random.rand(100)\n",
        "\n",
        "plt.scatter(x,y,c='skyblue',marker='o')\n",
        "plt.title('random plot')\n",
        "plt.xlabel('x')\n",
        "plt.ylabel('y')\n",
        "plt.show()\n",
        "\n"
      ],
      "metadata": {
        "colab": {
          "base_uri": "https://localhost:8080/",
          "height": 472
        },
        "id": "8GpAZefA2d05",
        "outputId": "246548da-9f0f-43b4-e898-e022efe5645d"
      },
      "execution_count": null,
      "outputs": [
        {
          "output_type": "display_data",
          "data": {
            "text/plain": [
              "<Figure size 640x480 with 1 Axes>"
            ],
            "image/png": "[encoded data removed]"
          },
          "metadata": {}
        }
      ]
    },
    {
      "cell_type": "markdown",
      "source": [
        "Q7"
      ],
      "metadata": {
        "id": "6O8QB0Io-VGL"
      }
    },
    {
      "cell_type": "code",
      "source": [
        "\n",
        "import numpy as np\n",
        "matrix1=np.random.rand(2,3)\n",
        "matrix2=np.random.rand(3,4)\n",
        "\n",
        "print(np.dot(matrix1,matrix2))"
      ],
      "metadata": {
        "colab": {
          "base_uri": "https://localhost:8080/"
        },
        "id": "fiZJkIqE-WBH",
        "outputId": "2cd3fd60-df54-463a-fd37-e2043eed5b21"
      },
      "execution_count": null,
      "outputs": [
        {
          "output_type": "stream",
          "name": "stdout",
          "text": [
            "[[0.7482176  1.06978182 1.22134642 0.64729732]\n",
            " [0.77920452 1.03378492 1.192148   0.62649782]]\n"
          ]
        }
      ]
    },
    {
      "cell_type": "markdown",
      "source": [
        "Q8"
      ],
      "metadata": {
        "id": "mfBNlzKa_qra"
      }
    },
    {
      "cell_type": "code",
      "source": [
        "import pandas as pd\n",
        "data={\n",
        "    'product':['shir','panir','kare','doogh','barbari','tafton','sangak'],\n",
        "    'category':['labaniat','labaniat','labaniat','labaniat','naan','naan','naan'],\n",
        "    'sales':[2700,1400,6000,1200,2400,5000,3400]\n",
        "}\n",
        "\n",
        "df=pd.DataFrame(data)\n",
        "grouped=df.groupby('category')\n",
        "result=grouped.agg({'sales':'sum'})\n",
        "print(result)"
      ],
      "metadata": {
        "colab": {
          "base_uri": "https://localhost:8080/"
        },
        "id": "xDWdlnyC_rvH",
        "outputId": "c3bca391-4c68-48b6-ba63-d691318231dc"
      },
      "execution_count": 1,
      "outputs": [
        {
          "output_type": "stream",
          "name": "stdout",
          "text": [
            "          sales\n",
            "category       \n",
            "labaniat  11300\n",
            "naan      10800\n"
          ]
        }
      ]
    },
    {
      "cell_type": "markdown",
      "source": [
        "Q9"
      ],
      "metadata": {
        "id": "bI12hFUhD2mp"
      }
    },
    {
      "cell_type": "code",
      "source": [
        "import matplotlib.pyplot as plt\n",
        "x=[2023,2024,2025,2026,2027,2028,2029,2030,2031,2032]\n",
        "y=[41236521,42301842,43021545,43031524,44031250,45031752,46315425,47231245,48254414,49632231]\n",
        "plt.clf\n",
        "plt.figure()\n",
        "plt.bar(x,y,color='blue')\n",
        "plt.xlabel('years')\n",
        "plt.ylabel('population')\n",
        "plt.title('population growth of a city over 10 years')\n",
        "plt.show()"
      ],
      "metadata": {
        "id": "Q2puZu9uD32b",
        "colab": {
          "base_uri": "https://localhost:8080/",
          "height": 472
        },
        "outputId": "dd24670c-5ab0-49f8-8f82-2fff83a844de"
      },
      "execution_count": 10,
      "outputs": [
        {
          "output_type": "display_data",
          "data": {
            "text/plain": [
              "<Figure size 640x480 with 1 Axes>"
            ],
            "image/png": "[encoded data removed]"
          },
          "metadata": {}
        }
      ]
    },
    {
      "cell_type": "markdown",
      "source": [
        "Q10"
      ],
      "metadata": {
        "id": "udr2OSLkiy3v"
      }
    },
    {
      "cell_type": "code",
      "source": [
        "import pandas as pd\n",
        "data={\n",
        "    'name':['saeed','ali','matin','reza','safa','sina','salar'],\n",
        "    'score':[95,65,72,57,78,81,88]\n",
        "}\n",
        "df=pd.DataFrame(data)\n",
        "y=[]\n",
        "for i in range(0,7):\n",
        "  if df['score'].loc[i] >= 90:\n",
        "    y.append('A')\n",
        "  elif df['score'].loc[i] >= 80:\n",
        "    y.append('B')\n",
        "  elif df['score'].loc[i] >= 70:\n",
        "    y.append('C')\n",
        "  elif df['score'].loc[i] < 70:\n",
        "    y.append('D')\n",
        "\n",
        "df['grade']=y\n",
        "print(df)"
      ],
      "metadata": {
        "colab": {
          "base_uri": "https://localhost:8080/"
        },
        "id": "icKrC1L0i0eb",
        "outputId": "d10f539a-bc17-4b24-b0eb-32ba0f491eef"
      },
      "execution_count": 44,
      "outputs": [
        {
          "output_type": "stream",
          "name": "stdout",
          "text": [
            "    name  score grade\n",
            "0  saeed     95     A\n",
            "1    ali     65     D\n",
            "2  matin     72     C\n",
            "3   reza     57     D\n",
            "4   safa     78     C\n",
            "5   sina     81     B\n",
            "6  salar     88     B\n"
          ]
        }
      ]
    },
    {
      "cell_type": "markdown",
      "source": [
        "Q11"
      ],
      "metadata": {
        "id": "nMSgOp75uylZ"
      }
    },
    {
      "cell_type": "code",
      "source": [
        "import pandas as pd\n",
        "import numpy as np\n",
        "import matplotlib.pyplot as plt\n",
        "\n",
        "data = {\n",
        "    'Month': pd.date_range(start='2021-01-01', periods=24, freq='M'),\n",
        "    'Product A Sales': [500, 480, 600, 750, 900, 850, 920, 1100, 1300, 1350, 1500, 1450, 1550, 1600, 1650, 1600, 1500, 1400, 1600, 1700, 1800, 1750, 1850, 1900],\n",
        "    'Product B Sales': [300, 320, 400, 450, 500, 580, 700, 750, 820, 900, 950, 980, 1050, 1100, 1150, 1200, 1250, 1300, 1350, 1400, 1500, 1600, 1550, 1700],\n",
        "    'Product C Sales': [200, 210, 250, 280, 320, 350, 380, 400, 420, 440, 460, 480, 500, 520, 540, 560, 580, 600, 620, 640, 660, 680, 700, 720]\n",
        "}\n",
        "\n",
        "sales_df = pd.DataFrame(data)\n",
        "\n",
        "print(\"total sales for each product: \")\n",
        "print(sales_df.sum())\n",
        "\n",
        "print(\"\\naverage monthly sales:\")\n",
        "print(sales_df.mean())\n",
        "\n",
        "\n",
        "max_a = sales_df['Product A Sales'].idxmax()\n",
        "max_b = sales_df['Product B Sales'].idxmax()\n",
        "max_c = sales_df['Product C Sales'].idxmax()\n",
        "\n",
        "month_a = sales_df.loc[max_a, 'Month']\n",
        "sales_a = sales_df.loc[max_a, 'Product A Sales']\n",
        "month_b = sales_df.loc[max_b, 'Month']\n",
        "sales_b = sales_df.loc[max_b, 'Product B Sales']\n",
        "month_c = sales_df.loc[max_c, 'Month']\n",
        "sales_c = sales_df.loc[max_c, 'Product C Sales']\n",
        "\n",
        "print(\"\\nSales A:\", sales_a, \"month\", month_a)\n",
        "print(\"Sales B:\", sales_b, \"month\", month_b)\n",
        "print(\"Sales C:\", sales_c, \"month\", month_c)\n",
        "\n",
        "\n",
        "sales_2022 = sales_df[(sales_df['Month'] >= '2022-01-01') & (sales_df['Month'] <= '2022-12-31')]\n",
        "change_percent_a = ((sales_2022['Product A Sales'].iloc[-1] - sales_2022['Product A Sales'].iloc[0]) / sales_2022['Product A Sales'].iloc[0]) * 100\n",
        "change_percent_b = ((sales_2022['Product B Sales'].iloc[-1] - sales_2022['Product B Sales'].iloc[0]) / sales_2022['Product B Sales'].iloc[0]) * 100\n",
        "change_percent_c = ((sales_2022['Product C Sales'].iloc[-1] - sales_2022['Product C Sales'].iloc[0]) / sales_2022['Product C Sales'].iloc[0]) * 100\n",
        "\n",
        "print(\"\\nchange percent of product A is\", change_percent_a, \"%\")\n",
        "print(\"change percent of product B is\", change_percent_b, \"%\")\n",
        "print(\"change percent of product C is\", change_percent_c, \"%\")\n",
        "\n",
        "\n",
        "plt.figure(figsize=(12,6))\n",
        "plt.bar(sales_df['Month'],sales_df['Product A Sales'], label='Product A sales')\n",
        "plt.bar(sales_df['Month'],sales_df['Product B Sales'], label='Product B Sales')\n",
        "plt.bar(sales_df['Month'],sales_df['Product C Sales'], label='Product C Sales')\n",
        "\n",
        "plt.xlabel(\"Months\")\n",
        "plt.ylabel(\"Sales\")\n",
        "plt.title(\"Sales for each products in 2 years\")\n",
        "\n",
        "plt.legend()\n",
        "\n",
        "\n",
        "correlation = sales_df['Product A Sales'].corr(sales_df['Product B Sales'])\n",
        "print(\"\\n\")\n",
        "print(correlation)\n",
        "\n",
        "if correlation >= 0.7:\n",
        "  print(\"Strong positive correlation\")\n",
        "elif correlation < -0.7:\n",
        "  print(\"strong negative correlation\")\n",
        "else:\n",
        "  print(\"weak correlation\")"
      ],
      "metadata": {
        "colab": {
          "base_uri": "https://localhost:8080/",
          "height": 1000
        },
        "id": "IULr4woru0ZH",
        "outputId": "527a712f-514f-4cc6-e40a-179a05073b76"
      },
      "execution_count": 46,
      "outputs": [
        {
          "output_type": "stream",
          "name": "stdout",
          "text": [
            "total sales for each product: \n",
            "Product A Sales    31600\n",
            "Product B Sales    23800\n",
            "Product C Sales    11510\n",
            "dtype: int64\n",
            "\n",
            "average monthly sales:\n",
            "Product A Sales    1316.666667\n",
            "Product B Sales     991.666667\n",
            "Product C Sales     479.583333\n",
            "dtype: float64\n",
            "\n",
            "Sales A: 1900 month 2022-12-31 00:00:00\n",
            "Sales B: 1700 month 2022-12-31 00:00:00\n",
            "Sales C: 720 month 2022-12-31 00:00:00\n",
            "\n",
            "change percent of product A is 22.58064516129032 %\n",
            "change percent of product B is 61.904761904761905 %\n",
            "change percent of product C is 44.0 %\n"
          ]
        },
        {
          "output_type": "stream",
          "name": "stderr",
          "text": [
            "<ipython-input-46-3b36fdecbc6a>:15: FutureWarning: The default value of numeric_only in DataFrame.sum is deprecated. In a future version, it will default to False. In addition, specifying 'numeric_only=None' is deprecated. Select only valid columns or specify the value of numeric_only to silence this warning.\n",
            "  print(sales_df.sum())\n",
            "<ipython-input-46-3b36fdecbc6a>:19: FutureWarning: DataFrame.mean and DataFrame.median with numeric_only=None will include datetime64 and datetime64tz columns in a future version.\n",
            "  print(sales_df.mean())\n"
          ]
        },
        {
          "output_type": "stream",
          "name": "stdout",
          "text": [
            "\n",
            "\n",
            "0.954652710589704\n",
            "Strong positive correlation\n"
          ]
        },
        {
          "output_type": "display_data",
          "data": {
            "text/plain": [
              "<Figure size 1200x600 with 1 Axes>"
            ],
            "image/png": "[encoded data removed]"
          },
          "metadata": {}
        }
      ]
    }
  ]
}