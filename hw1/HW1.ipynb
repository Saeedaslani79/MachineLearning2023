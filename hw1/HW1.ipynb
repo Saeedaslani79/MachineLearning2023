{
  "nbformat": 4,
  "nbformat_minor": 0,
  "metadata": {
    "colab": {
      "provenance": [],
      "authorship_tag": "ABX9TyPcL1i0MiXfBPt+ehp4tGd0",
      "include_colab_link": true
    },
    "kernelspec": {
      "name": "python3",
      "display_name": "Python 3"
    },
    "language_info": {
      "name": "python"
    }
  },
  "cells": [
    {
      "cell_type": "markdown",
      "metadata": {
        "id": "view-in-github",
        "colab_type": "text"
      },
      "source": [
        "<a href=\"https://colab.research.google.com/github/Saeedaslani79/MachineLearning2023/blob/main/hw1/HW1.ipynb\" target=\"_parent\"><img src=\"https://colab.research.google.com/assets/colab-badge.svg\" alt=\"Open In Colab\"/></a>"
      ]
    },
    {
      "cell_type": "markdown",
      "source": [
        "Q1\n"
      ],
      "metadata": {
        "id": "v1mjJqYBaWRz"
      }
    },
    {
      "cell_type": "code",
      "source": [
        "x=int(input(print('Enter your age:')))\n",
        "if x >= 18:\n",
        "  print('You are an adult.')\n",
        "else:\n",
        "  print('You are a minor.')"
      ],
      "metadata": {
        "colab": {
          "base_uri": "https://localhost:8080/"
        },
        "id": "U3itSiSZaaQ2",
        "outputId": "371b6352-1a54-4380-af98-9982339daf1b"
      },
      "execution_count": null,
      "outputs": [
        {
          "output_type": "stream",
          "name": "stdout",
          "text": [
            "Enter your age:\n",
            "None18\n",
            "You are an adult.\n"
          ]
        }
      ]
    },
    {
      "cell_type": "markdown",
      "source": [
        "Q2"
      ],
      "metadata": {
        "id": "DKCXoB8ocBdP"
      }
    },
    {
      "cell_type": "code",
      "source": [
        "for i in range(1,11):\n",
        "  print(i)"
      ],
      "metadata": {
        "colab": {
          "base_uri": "https://localhost:8080/"
        },
        "id": "d4nBlMz3cCl0",
        "outputId": "8c71855e-d4db-4ff6-9c7c-2b98eacf7d9c"
      },
      "execution_count": null,
      "outputs": [
        {
          "output_type": "stream",
          "name": "stdout",
          "text": [
            "1\n",
            "2\n",
            "3\n",
            "4\n",
            "5\n",
            "6\n",
            "7\n",
            "8\n",
            "9\n",
            "10\n"
          ]
        }
      ]
    },
    {
      "cell_type": "markdown",
      "source": [
        "Q3"
      ],
      "metadata": {
        "id": "eQ14AQiVcZgx"
      }
    },
    {
      "cell_type": "code",
      "source": [
        "i=1\n",
        "sum=0\n",
        "while i<21:\n",
        "  if (i%2)==0:\n",
        "    sum+=i\n",
        "  i+=1\n",
        "print('Sum of even numbers from 1 to 20:',sum)\n",
        "\n"
      ],
      "metadata": {
        "colab": {
          "base_uri": "https://localhost:8080/"
        },
        "id": "lo0mQBO8cad6",
        "outputId": "7945fa5b-dae3-45b1-cdc7-0916dbbac0d0"
      },
      "execution_count": null,
      "outputs": [
        {
          "output_type": "stream",
          "name": "stdout",
          "text": [
            "Sum of even numbers from 1 to 20: 110\n"
          ]
        }
      ]
    },
    {
      "cell_type": "markdown",
      "source": [
        "Q4"
      ],
      "metadata": {
        "id": "6xiTwai0eVjH"
      }
    },
    {
      "cell_type": "code",
      "source": [
        "def multiply(x,y):\n",
        "  z=x*y\n",
        "  print(z)\n",
        "\n",
        "a=multiply(4,6)"
      ],
      "metadata": {
        "colab": {
          "base_uri": "https://localhost:8080/"
        },
        "id": "HdnIu81NeWj-",
        "outputId": "4025f9d0-6b4e-4931-ccaf-309ec55fd2df"
      },
      "execution_count": null,
      "outputs": [
        {
          "output_type": "stream",
          "name": "stdout",
          "text": [
            "24\n"
          ]
        }
      ]
    },
    {
      "cell_type": "markdown",
      "source": [
        "Q5\n"
      ],
      "metadata": {
        "id": "kMm9SEA8AtjV"
      }
    },
    {
      "cell_type": "code",
      "execution_count": null,
      "metadata": {
        "colab": {
          "base_uri": "https://localhost:8080/"
        },
        "id": "VX7tsc618VIV",
        "outputId": "a12e5fce-fb99-4196-80ac-726b588ef8f2"
      },
      "outputs": [
        {
          "output_type": "stream",
          "name": "stdout",
          "text": [
            "name: Alice\n",
            "age: 25\n"
          ]
        }
      ],
      "source": [
        "class Person :\n",
        "  def __init__(self,name,age):\n",
        "    self.name = name\n",
        "    self.age = age\n",
        "\n",
        "person1 = Person('Alice',25)\n",
        "print('name:',person1.name)\n",
        "print('age:',person1.age)\n"
      ]
    },
    {
      "cell_type": "markdown",
      "source": [
        "Q6"
      ],
      "metadata": {
        "id": "BFMkdKYcA_GN"
      }
    },
    {
      "cell_type": "code",
      "source": [
        "class Person :\n",
        "  def __init__(self,name,age):\n",
        "    self.name = name\n",
        "    self.age = age\n",
        "\n",
        "class Student(Person):\n",
        "  def __init__(self, name, age, student_id):\n",
        "    self.student_id = student_id\n",
        "    self.name = name\n",
        "    self.age = age\n",
        "\n",
        "stu1 = Student('Bob',20,12345)\n",
        "print('name:',stu1.name)\n",
        "print('age:',stu1.age)\n",
        "print('student_id:',stu1.student_id)\n"
      ],
      "metadata": {
        "colab": {
          "base_uri": "https://localhost:8080/"
        },
        "id": "-meT7YAqBDrj",
        "outputId": "5ed733fa-e273-4d3c-8964-c232312a023e"
      },
      "execution_count": null,
      "outputs": [
        {
          "output_type": "stream",
          "name": "stdout",
          "text": [
            "name: Bob\n",
            "age: 20\n",
            "student_id: 12345\n"
          ]
        }
      ]
    },
    {
      "cell_type": "markdown",
      "source": [
        "Q7"
      ],
      "metadata": {
        "id": "OH65c8L3De4G"
      }
    },
    {
      "cell_type": "code",
      "source": [
        "x = int(input('Enter a number: '))\n",
        "def is_prime(x):\n",
        "  j=0\n",
        "  for i in range(2,x//2):\n",
        "    if x%(i) == 0:\n",
        "      j += 1\n",
        "  if j == 0:\n",
        "    print(x,'is a prime number.')\n",
        "  else :\n",
        "    print(x,'is not a prime number.')\n",
        "is_prime(x)\n",
        "\n",
        "\n",
        "\n",
        "\n"
      ],
      "metadata": {
        "colab": {
          "base_uri": "https://localhost:8080/"
        },
        "id": "3KMKQv9ADhsf",
        "outputId": "1a5c947e-5ab0-4e4e-f5f9-740a7e5f4930"
      },
      "execution_count": null,
      "outputs": [
        {
          "output_type": "stream",
          "name": "stdout",
          "text": [
            "Enter a number: 13\n",
            "13 is a prime number.\n"
          ]
        }
      ]
    },
    {
      "cell_type": "markdown",
      "source": [
        "Q8"
      ],
      "metadata": {
        "id": "QrGZqUU2KwjS"
      }
    },
    {
      "cell_type": "code",
      "source": [
        "\n",
        "def fact(x):\n",
        "  x = int(input('Enter an integer:'))\n",
        "  k = 1\n",
        "  for i in range(1,x+1):\n",
        "    k *= i\n",
        "  print(k)\n",
        "\n",
        "fact(x)\n",
        "\n"
      ],
      "metadata": {
        "colab": {
          "base_uri": "https://localhost:8080/"
        },
        "id": "9PKR4DENKykX",
        "outputId": "fa6e9f5b-371b-4493-9abe-777a1474f939"
      },
      "execution_count": null,
      "outputs": [
        {
          "output_type": "stream",
          "name": "stdout",
          "text": [
            "Enter an integer:10\n",
            "3628800\n"
          ]
        }
      ]
    },
    {
      "cell_type": "markdown",
      "source": [
        "Q9"
      ],
      "metadata": {
        "id": "OwJ-OIxaOlBi"
      }
    },
    {
      "cell_type": "code",
      "source": [
        "class Rectangle:\n",
        "  def __init__(self,width,height):\n",
        "    self.width = width\n",
        "    self.height = height\n",
        "\n",
        "  def calculate_area(self):\n",
        "    x=self.width*self.height\n",
        "    print('Area of the rectangle:',x)\n",
        "\n",
        "area1=Rectangle(4,10)\n",
        "\n",
        "area1.calculate_area()\n",
        "\n",
        "\n"
      ],
      "metadata": {
        "colab": {
          "base_uri": "https://localhost:8080/"
        },
        "id": "vTqeHStSOmLv",
        "outputId": "3eaf7772-ed30-40fa-cf4a-25bff9263e06"
      },
      "execution_count": null,
      "outputs": [
        {
          "output_type": "stream",
          "name": "stdout",
          "text": [
            "Area of the rectangle: 40\n"
          ]
        }
      ]
    },
    {
      "cell_type": "markdown",
      "source": [
        "Q10"
      ],
      "metadata": {
        "id": "qA7Z_5GHRxVM"
      }
    },
    {
      "cell_type": "code",
      "source": [
        "class Rectangle:\n",
        "  def __init__(self,width,height):\n",
        "    self.width = width\n",
        "    self.height = height\n",
        "class Square(Rectangle):\n",
        "  def __init__(self,width,height,length):\n",
        "    super().__init__(width,height)\n",
        "    self.length = length\n",
        "  def calculate_perimeter(self):\n",
        "    x = 4 * self.length\n",
        "    print('Perimeter of the square:',x)\n",
        "\n",
        "a=Square(1,10,4)\n",
        "\n",
        "a.calculate_perimeter()"
      ],
      "metadata": {
        "colab": {
          "base_uri": "https://localhost:8080/"
        },
        "id": "1Ym7h0xwRyvf",
        "outputId": "ce75bac7-7023-49ab-ef4b-7970bc292824"
      },
      "execution_count": null,
      "outputs": [
        {
          "output_type": "stream",
          "name": "stdout",
          "text": [
            "Perimeter of the square: 16\n"
          ]
        }
      ]
    },
    {
      "cell_type": "markdown",
      "source": [
        "Q11\n"
      ],
      "metadata": {
        "id": "qx1k46ksKmj_"
      }
    },
    {
      "cell_type": "code",
      "source": [
        "class Animal:\n",
        "  def __init__(self,name,species):\n",
        "\n",
        "    self.name = name\n",
        "    self.species = species\n",
        "\n",
        "  def speak(self):\n",
        "      print(\"The animal makes a sound.\")\n",
        "\n",
        "\n",
        "ba = Animal(\"s\",\"sss\")\n",
        "ba.speak()\n",
        "\n",
        "\n",
        "\n",
        "\n",
        "\n",
        "\n",
        "\n",
        "\n"
      ],
      "metadata": {
        "colab": {
          "base_uri": "https://localhost:8080/"
        },
        "id": "ps3IWxB3Kn2W",
        "outputId": "f774a206-ae7d-4c6b-cde0-454fe933781d"
      },
      "execution_count": null,
      "outputs": [
        {
          "output_type": "stream",
          "name": "stdout",
          "text": [
            "The animal makes a sound.\n"
          ]
        }
      ]
    },
    {
      "cell_type": "markdown",
      "source": [
        "Q12"
      ],
      "metadata": {
        "id": "fpyeFOHnSNFa"
      }
    },
    {
      "cell_type": "code",
      "source": [
        "class Animal:\n",
        "  def __init__(self,name,species):\n",
        "\n",
        "    self.name = name\n",
        "    self.species = species\n",
        "\n",
        "  def speak(self):\n",
        "      print(self.name)\n",
        "\n",
        "class Dog(Animal):\n",
        "  def __init__(self, name, species,breed):\n",
        "    super().__init__(name, species)\n",
        "    self.breed = breed\n",
        "\n",
        "  def speak(self):\n",
        "      print(\"Woof!\")\n",
        "\n",
        "\n",
        "dog = Dog(\"Buddy\", \"Canine\", \"Labrador Retriever\")\n",
        "\n",
        "dog.speak()\n",
        "\n",
        "\n",
        "\n",
        "\n",
        "\n",
        "\n"
      ],
      "metadata": {
        "colab": {
          "base_uri": "https://localhost:8080/"
        },
        "id": "aCnH3UqXSOO5",
        "outputId": "a6263816-df91-4b17-dc68-ef6061b41e39"
      },
      "execution_count": null,
      "outputs": [
        {
          "output_type": "stream",
          "name": "stdout",
          "text": [
            "Woof!\n"
          ]
        }
      ]
    },
    {
      "cell_type": "markdown",
      "source": [
        "Q13"
      ],
      "metadata": {
        "id": "N1tMHmH8aLRq"
      }
    },
    {
      "cell_type": "code",
      "source": [
        "class Animal:\n",
        "  def __init__(self,name,species):\n",
        "\n",
        "    self.name = name\n",
        "    self.species = species\n",
        "\n",
        "  def speak(self):\n",
        "      print(self.name)\n",
        "\n",
        "class Cat(Animal):\n",
        "  def __init__(self,name,species,color):\n",
        "    super().__init__(name,species)\n",
        "    self.color = color\n",
        "\n",
        "  def speak(self):\n",
        "    print(\"Meow!\")\n",
        "\n",
        "\n",
        "pishi=Cat('sa','saaa','blue')\n",
        "pishi.speak()\n",
        "\n"
      ],
      "metadata": {
        "colab": {
          "base_uri": "https://localhost:8080/"
        },
        "id": "IvLPI_twaMmA",
        "outputId": "5a0a19c8-2b3b-4458-c5d5-15b02255ba80"
      },
      "execution_count": null,
      "outputs": [
        {
          "output_type": "stream",
          "name": "stdout",
          "text": [
            "Meow!\n"
          ]
        }
      ]
    },
    {
      "cell_type": "markdown",
      "source": [
        "Q14"
      ],
      "metadata": {
        "id": "TEcusJIpbucM"
      }
    },
    {
      "cell_type": "code",
      "source": [
        "class Animal:\n",
        "  def __init__(self,name,species):\n",
        "\n",
        "    self.name = name\n",
        "    self.species = species\n",
        "\n",
        "  def speak(self):\n",
        "      print(self.name)\n",
        "\n",
        "class Dog(Animal):\n",
        "  def __init__(self, name, species,breed,color):\n",
        "    super().__init__(name, species)\n",
        "    self.breed = breed\n",
        "    self.color = color\n",
        "\n",
        "  def speak(self):\n",
        "      print(self.name + \" the \" + self.color + self.breed + \" says Woof!\")\n",
        "\n",
        "\n",
        "class Cat(Animal):\n",
        "  def __init__(self,name,species,color):\n",
        "    super().__init__(name,species)\n",
        "    self.color = color\n",
        "\n",
        "  def speak(self):\n",
        "    print(self.name + \" the \" + self.color + \" \" + self.species + \" says Meow!\")\n",
        "\n",
        "sag1=Dog(\"Buddy\",\"Canine\",\"Retriever\",\"Golden\")\n",
        "sag1.speak()\n",
        "pishi1=Cat(\"Whiskers\",\"cat\",\"Calico\")\n",
        "pishi1.speak()"
      ],
      "metadata": {
        "id": "htz78nGtbwh2",
        "colab": {
          "base_uri": "https://localhost:8080/"
        },
        "outputId": "dacae6e3-33ea-4634-a68b-713967a94a9e"
      },
      "execution_count": null,
      "outputs": [
        {
          "output_type": "stream",
          "name": "stdout",
          "text": [
            "Buddy the GoldenRetriever says Woof!\n",
            "Whiskers the Calico cat says Meow!\n"
          ]
        }
      ]
    }
  ]
}